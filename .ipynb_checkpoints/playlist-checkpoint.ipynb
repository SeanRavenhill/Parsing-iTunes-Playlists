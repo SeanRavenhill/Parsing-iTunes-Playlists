{
 "cells": [
  {
   "cell_type": "markdown",
   "metadata": {},
   "source": [
    "## First import python libraries"
   ]
  },
  {
   "cell_type": "code",
   "execution_count": 1,
   "metadata": {},
   "outputs": [],
   "source": [
    "import re, argparse\n",
    "import sys\n",
    "from matplotlib import pyplot\n",
    "import plistlib\n",
    "import numpy as np"
   ]
  },
  {
   "cell_type": "markdown",
   "metadata": {},
   "source": [
    "### Below Function finds duplicates of tracks in an iTunes library.\n",
    "#### Writes a text file reporting the duplications."
   ]
  },
  {
   "cell_type": "code",
   "execution_count": 2,
   "metadata": {},
   "outputs": [],
   "source": [
    "def findDuplicates(fileName):\n",
    "    print('Finding duplicate tracks in %s...' %fileName)\n",
    "    # read in a playlist\n",
    "    plist = plistlib.load(open(fileName, 'rb'))\n",
    "    # get the tracks from the Tracks dictionary\n",
    "    tracks = plist['Tracks']\n",
    "    # create a track name dictionary\n",
    "    trackNames = {}\n",
    "    # iterate through the Tracks\n",
    "    for trackId, track in tracks.items():\n",
    "        try:\n",
    "            name = track['Name']\n",
    "            duration = track['Total Time']\n",
    "            # look for existing entries\n",
    "            if name in trackNames:\n",
    "                # if a name and duration match, increment the count\n",
    "                # round the track length to the nearest second\n",
    "                if duration//1000 == trackNames[name][0]//1000:\n",
    "                    count = trackNames[name][1]\n",
    "                    trackNames[name] = (duration, count+1)\n",
    "            else:\n",
    "                # add dictionary entry as tuple (duration, count)\n",
    "                trackNames[name] = (duration, 1)\n",
    "        except:\n",
    "            # ignore\n",
    "            pass\n",
    "\n",
    "    # store duplicates as (name, count) tuples\n",
    "    dups = []\n",
    "    for k, v in trackNames.items():\n",
    "        if v[1] > 1:\n",
    "            dups.append((k, v[1]))\n",
    "    # save duplicates to a file\n",
    "    if len(dups) > 0:\n",
    "        print('Found %d duplicates. Track names saved to dup.txt' %len(dups))\n",
    "    else:\n",
    "        print('No duplicate tracks found!')\n",
    "    f = open('duplicates.txt', 'w')\n",
    "    for val in dups:\n",
    "        print('%s [%d]' %(val[0], val[1]))\n",
    "        f.write('%s [%d]\\n' %(val[0], val[1]))\n",
    "    f.close()"
   ]
  },
  {
   "cell_type": "markdown",
   "metadata": {},
   "source": [
    "#### Calling on this function with some test data."
   ]
  },
  {
   "cell_type": "code",
   "execution_count": 3,
   "metadata": {},
   "outputs": [
    {
     "name": "stdout",
     "output_type": "stream",
     "text": [
      "Finding duplicate tracks in test-data/mymusic.xml...\n",
      "Found 106 duplicates. Track names saved to dup.txt\n",
      "Talkin' Bout A Revolution [3]\n",
      "Across The Universe [3]\n",
      "The Long And Winding Road [2]\n",
      "Raat Ki Daldal Hain [5]\n",
      "A Thousand Years [3]\n",
      "Desert Rose [3]\n",
      "The Girl From Ipanema [3]\n",
      "Kiss From A Rose [2]\n",
      "Banno Ranni [4]\n",
      "Paranoid Android [3]\n",
      "Bulla Ki Jana [4]\n",
      "Tere Bin [4]\n",
      "Heer [4]\n",
      "Ishtihar [4]\n",
      "Totia Manmotia [4]\n",
      "Gill 'te Guitar [4]\n",
      "Jugni [4]\n",
      "Ajj Nachna [4]\n",
      "Ek Geet Hijar Da [4]\n",
      "You're My Best Friend [2]\n",
      "Creepin' In [2]\n",
      "Come Away With Me [3]\n",
      "Paathshala [4]\n",
      "Khoon Chala [4]\n",
      "Tu Bin Bataye [4]\n",
      "Hum Hain Rahi Pyar Ke [2]\n",
      "Piano Theme [5]\n",
      "Theme Music [5]\n",
      "Ik Onkar [4]\n",
      "Dheemi Dheemi [4]\n",
      "Rang De Basanti [4]\n",
      "God Shuffled His Feet [3]\n",
      "Dehka Ek Khawab [2]\n",
      "Yeh Kahan Aa Gaye Ham [2]\n",
      "Sar Se Sarke [2]\n",
      "Neela Aasman So Gaya [2]\n",
      "Ladki Hai Ya Shola [2]\n",
      "Rang Barse [2]\n",
      "Jo Tum Todo Piya [2]\n",
      "Kabhi Kabhi Mere Dil Mein Khayal Aata Hai [2]\n",
      "Surkh Jode Ki Yeh Jagmagahat [2]\n",
      "Main Pal Do Pal Ka Shair Hoon [2]\n",
      "Tere Chehere Se Nazar Nahin Hatati [2]\n",
      "Pyar Kar Liya To Kya [2]\n",
      "Mere Ghar Ayee Nanhi Pari [2]\n",
      "Main Har Ek Pal Ka Shair Hoon [2]\n",
      "Kabhi Kabhi Mere Dil Mein Khayal Aata [2]\n",
      "Socha Hai [3]\n",
      "Rock On!! [3]\n",
      "Down To The River To Pray [2]\n",
      "Night Before Sundance [2]\n",
      "Drums Of The Heart [2]\n",
      "Legends [2]\n",
      "Drummers' Journey [2]\n",
      "Ya-Ta-Hey [2]\n",
      "Invoking The Hawks' Spirit [2]\n",
      "Crow Dogs' Paradise [2]\n",
      "Flute Song [2]\n",
      "Road Opener [2]\n",
      "Drum Quest [2]\n",
      "Floe [3]\n",
      "Rubric [3]\n",
      "Mere Sapno Ki Rani [2]\n",
      "Kora Kagaz Tha Yeh Man Mera [2]\n",
      "Baghon Mein Bahar Aayi [2]\n",
      "Roop Tera Mastana [2]\n",
      "Gun Guna Rahe Bahavare [2]\n",
      "Chanda Hai Tu Mera Suraj Hai Tu [2]\n",
      "Saphal Hui Teri Aaradhana [2]\n",
      "Bindiya Chamke Gi [2]\n",
      "Yeh Reshmi Zulfein [2]\n",
      "Mera Naseeb Mein Aye Dost [2]\n",
      "Dil Ne Dil Ko Pukhara [2]\n",
      "Apni Apni Biwi [2]\n",
      "Do Raaste [2]\n",
      "Title Music [2]\n",
      "Exodus [3]\n",
      "Blowin' In The Wind [3]\n",
      "Paathshala-Be A Rebel [4]\n",
      "Ishwar Allah [5]\n",
      "Lalkaar [4]\n",
      "Roobaroo [4]\n",
      "Khalbali [4]\n",
      "Blackbird [2]\n",
      "Dance Me To The End Of Love [3]\n",
      "Only Time (Original Version) [3]\n",
      "Stairway To Heaven [3]\n",
      "25/03/11 4:33 PM [2]\n",
      "27/03/11 6:14 PM [2]\n",
      "21/04/11 4:43 PM [2]\n",
      "21/04/11 6:46 PM [2]\n",
      "21/04/11 6:47 PM [2]\n",
      "21/04/11 6:49 PM [2]\n",
      "21/04/11 6:51 PM [2]\n",
      "26/04/11 1:23 PM [2]\n",
      "21/07/11 8:53 AM [2]\n",
      "29/07/11 7:54 PM [2]\n",
      "29/07/11 7:55 PM [2]\n",
      "29/07/11 7:57 PM [2]\n",
      "29/07/11 8:00 PM [2]\n",
      "04/08/11 5:23 PM [2]\n",
      "08/08/11 8:15 PM [2]\n",
      "01/09/11 8:37 AM [2]\n",
      "01/09/11 8:41 AM [2]\n",
      "Sour Times [3]\n",
      "Harmonica For Dummies [4]\n"
     ]
    }
   ],
   "source": [
    "findDuplicates('test-data/mymusic.xml')"
   ]
  },
  {
   "cell_type": "markdown",
   "metadata": {},
   "source": [
    "### Below function finds common tracks between playlist files.\n",
    "####  Writes a text file reporting the common tracks."
   ]
  },
  {
   "cell_type": "code",
   "execution_count": 4,
   "metadata": {},
   "outputs": [],
   "source": [
    "def findCommonTracks(fileNames):\n",
    "    # a list of sets of track track names\n",
    "    trackNameSets = []\n",
    "    for fileName in fileNames:\n",
    "        # create a new set\n",
    "        trackNames = set()\n",
    "        # read in playlist\n",
    "        plist = plistlib.load(open(fileName, 'rb'))\n",
    "        # get the tracks\n",
    "        tracks = plist['Tracks']\n",
    "        # iterate through the tracks\n",
    "        for trackId, track in tracks.items():\n",
    "            try:\n",
    "                # add the track name to a set\n",
    "                trackNames.add(track['Name'])\n",
    "            except:\n",
    "                # ignore\n",
    "                pass\n",
    "        # add to list\n",
    "        trackNameSets.append(trackNames)\n",
    "    # get the set of common tracks\n",
    "    commonTracks = set.intersection(*trackNameSets)\n",
    "    # write to file:\n",
    "    if len(commonTracks) > 0:\n",
    "        f = open('commom tracks.txt', 'wb')\n",
    "        for val in commonTracks:\n",
    "            s = '%s\\n' %val\n",
    "            f.write(s.encode(\"UTF-8\"))\n",
    "        f.close()\n",
    "        print('%d common tracks found.\\nTrack names written to common tracks.txt' %len(commonTracks))\n",
    "    else:\n",
    "        print('No common tracks!')"
   ]
  },
  {
   "cell_type": "markdown",
   "metadata": {},
   "source": [
    "#### Calling on this function with some test data."
   ]
  },
  {
   "cell_type": "code",
   "execution_count": 5,
   "metadata": {},
   "outputs": [
    {
     "name": "stdout",
     "output_type": "stream",
     "text": [
      "67 common tracks found.\n",
      "Track names written to common tracks.txt\n"
     ]
    }
   ],
   "source": [
    "findCommonTracks(['test-data/mymusic.xml', 'test-data/maya.xml'])"
   ]
  },
  {
   "cell_type": "markdown",
   "metadata": {},
   "source": [
    "### Below function below gathers and renders out Data from playlist."
   ]
  },
  {
   "cell_type": "code",
   "execution_count": 6,
   "metadata": {},
   "outputs": [],
   "source": [
    "def plotStats(fileName):\n",
    "    # read in a playlist\n",
    "    plist = plistlib.load(open(fileName, 'rb'))\n",
    "    # get the tracks from the playlist\n",
    "    tracks = plist['Tracks']\n",
    "    # create lists of song rating and track duractions\n",
    "    ratings = []\n",
    "    durations = []\n",
    "    # iterate through the tracks\n",
    "    for trackId, track in tracks.items():\n",
    "        try:\n",
    "            ratings.append(track['Album Rating'])\n",
    "            durations.append(track['Total Time'])\n",
    "        except:\n",
    "            # ignore\n",
    "            pass\n",
    "    # ensure that valid data was collected:\n",
    "    if ratings == [] or durations == []:\n",
    "        print('No valid Album Rating/Total Time data in %s.' %fileName)\n",
    "        return\n",
    "    \n",
    "    # scatter plot\n",
    "    x = np.array(durations, np.int32)\n",
    "    # convert to minutes\n",
    "    x = x/60000.0\n",
    "    y = np.array(ratings, np.int32)\n",
    "    pyplot.subplot(2, 1, 1)\n",
    "    pyplot.plot(x, y, 'o')\n",
    "    pyplot.axis([1, 1.05*np.max(x), -1, 110])\n",
    "    pyplot.xlabel('Track Duration')\n",
    "    pyplot.ylabel('Track Rating')\n",
    "    \n",
    "    # histogram plot\n",
    "    pyplot.subplot(2, 1, 2)\n",
    "    pyplot.hist(x, bins=20)\n",
    "    pyplot.xlabel('Track Duration')\n",
    "    pyplot.ylabel('Count')\n",
    "    \n",
    "    #show plot\n",
    "    pyplot.show()"
   ]
  },
  {
   "cell_type": "markdown",
   "metadata": {},
   "source": [
    "#### Calling on this function with some test data."
   ]
  },
  {
   "cell_type": "code",
   "execution_count": 7,
   "metadata": {},
   "outputs": [
    {
     "data": {
      "image/png": "[encoded data removed]",
      "text/plain": [
       "<Figure size 432x288 with 2 Axes>"
      ]
     },
     "metadata": {
      "needs_background": "light"
     },
     "output_type": "display_data"
    }
   ],
   "source": [
    "plotStats('test-data/rating.xml')"
   ]
  }
 ],
 "metadata": {
  "kernelspec": {
   "display_name": "Python 3",
   "language": "python",
   "name": "python3"
  },
  "language_info": {
   "codemirror_mode": {
    "name": "ipython",
    "version": 3
   },
   "file_extension": ".py",
   "mimetype": "text/x-python",
   "name": "python",
   "nbconvert_exporter": "python",
   "pygments_lexer": "ipython3",
   "version": "3.8.3"
  }
 },
 "nbformat": 4,
 "nbformat_minor": 4
}
